{
 "cells": [
  {
   "cell_type": "code",
   "execution_count": 1,
   "id": "0397aba2",
   "metadata": {},
   "outputs": [],
   "source": [
    "import numpy as np"
   ]
  },
  {
   "cell_type": "code",
   "execution_count": 5,
   "id": "e6bebca2",
   "metadata": {},
   "outputs": [],
   "source": [
    "x = np.array([1,5,10,12,16])"
   ]
  },
  {
   "cell_type": "code",
   "execution_count": 10,
   "id": "88a047d7",
   "metadata": {},
   "outputs": [
    {
     "data": {
      "text/plain": [
       "array(34.7)"
      ]
     },
     "execution_count": 10,
     "metadata": {},
     "output_type": "execute_result"
    }
   ],
   "source": [
    "np.cov(x, ddof = 1)"
   ]
  },
  {
   "cell_type": "markdown",
   "id": "eb3e14a8",
   "metadata": {},
   "source": [
    "# 1) otimização regressão linear simples"
   ]
  },
  {
   "cell_type": "markdown",
   "id": "86b84529",
   "metadata": {},
   "source": [
    "$\\hat{y} = a + b x$"
   ]
  },
  {
   "cell_type": "markdown",
   "id": "3e5469d5",
   "metadata": {},
   "source": [
    "e = (y - yhat)^2"
   ]
  },
  {
   "cell_type": "code",
   "execution_count": 50,
   "id": "64f6f619",
   "metadata": {},
   "outputs": [],
   "source": [
    "class RegressionLinearSimples:\n",
    "    \n",
    "    def __init__(self, x, y):\n",
    "        self.x = np.array(x)\n",
    "        self.y = np.array(y)\n",
    "    def fit(self):\n",
    "        cov = np.cov(self.x, self.y)\n",
    "        b = cov[0,1] / cov[0,0]\n",
    "        \n",
    "        a = np.mean(self.y) - np.mean(self.x)*b\n",
    "        \n",
    "        self.a = a\n",
    "        self.b = b\n",
    "        \n",
    "    def predict(self,x):\n",
    "        \n",
    "        return self.a + self.b *x\n",
    "    \n",
    "    def get_betas(self):\n",
    "        return self.a, self.b\n",
    "    \n",
    "        \n",
    "        \n",
    "        \n",
    "        \n",
    "    \n",
    "    "
   ]
  },
  {
   "cell_type": "code",
   "execution_count": null,
   "id": "53cd1300",
   "metadata": {},
   "outputs": [],
   "source": []
  },
  {
   "cell_type": "code",
   "execution_count": 51,
   "id": "9643e448",
   "metadata": {},
   "outputs": [],
   "source": [
    "x = np.array([1,5,10,12,16])\n",
    "y = x + 4"
   ]
  },
  {
   "cell_type": "code",
   "execution_count": 52,
   "id": "9bb26be0",
   "metadata": {},
   "outputs": [
    {
     "data": {
      "text/plain": [
       "array([ 5,  9, 14, 16, 20])"
      ]
     },
     "execution_count": 52,
     "metadata": {},
     "output_type": "execute_result"
    }
   ],
   "source": [
    "y"
   ]
  },
  {
   "cell_type": "code",
   "execution_count": 53,
   "id": "84d751a6",
   "metadata": {},
   "outputs": [],
   "source": [
    "rls = RegressionLinearSimples(x,y)"
   ]
  },
  {
   "cell_type": "code",
   "execution_count": 54,
   "id": "b1f3d432",
   "metadata": {},
   "outputs": [],
   "source": [
    "rls.fit()"
   ]
  },
  {
   "cell_type": "code",
   "execution_count": 55,
   "id": "5b02f5ae",
   "metadata": {},
   "outputs": [
    {
     "data": {
      "text/plain": [
       "(4.0, 1.0)"
      ]
     },
     "execution_count": 55,
     "metadata": {},
     "output_type": "execute_result"
    }
   ],
   "source": [
    "rls.get_betas()"
   ]
  },
  {
   "cell_type": "code",
   "execution_count": 56,
   "id": "b1c64602",
   "metadata": {},
   "outputs": [
    {
     "data": {
      "text/plain": [
       "30.0"
      ]
     },
     "execution_count": 56,
     "metadata": {},
     "output_type": "execute_result"
    }
   ],
   "source": [
    "rls.predict(26)"
   ]
  },
  {
   "cell_type": "markdown",
   "id": "707f0cf5",
   "metadata": {},
   "source": [
    "# 2) otimização regressão  simples"
   ]
  },
  {
   "cell_type": "code",
   "execution_count": null,
   "id": "3d2f664f",
   "metadata": {},
   "outputs": [],
   "source": [
    "class RegressionLinear:\n",
    "    \n",
    "    def __init__(self, x, y):\n",
    "        self.x = np.array(x)\n",
    "        self.y = np.array(y)\n",
    "    def fit(self, alpha, interactions):\n",
    "        for _ in interactions\n",
    "        \n",
    "        \n",
    "        b -= self.x - alpha * np.gradient(self.x)\n",
    "        \n",
    "        \n",
    "        self.b = b\n",
    "        \n",
    "    def predict(self,x):\n",
    "        \n",
    "        return self.a + self.b *x\n",
    "    \n",
    "    def get_betas(self):\n",
    "        return self.a, self.b"
   ]
  },
  {
   "cell_type": "code",
   "execution_count": null,
   "id": "54d39311",
   "metadata": {},
   "outputs": [],
   "source": []
  },
  {
   "cell_type": "markdown",
   "id": "0a04265d",
   "metadata": {},
   "source": [
    "# 3) Otimização perceptron simples"
   ]
  },
  {
   "cell_type": "code",
   "execution_count": null,
   "id": "469209d7",
   "metadata": {},
   "outputs": [],
   "source": []
  },
  {
   "cell_type": "markdown",
   "id": "c589ad9f",
   "metadata": {},
   "source": [
    "# 4) Otimização perceptron multy layers (back propagation)"
   ]
  },
  {
   "cell_type": "code",
   "execution_count": null,
   "id": "6a5d9597",
   "metadata": {},
   "outputs": [],
   "source": []
  },
  {
   "cell_type": "markdown",
   "id": "88089930",
   "metadata": {},
   "source": [
    "# 5) Diminuir dimensionalidade com PCA"
   ]
  },
  {
   "cell_type": "code",
   "execution_count": null,
   "id": "635240f2",
   "metadata": {},
   "outputs": [],
   "source": []
  }
 ],
 "metadata": {
  "kernelspec": {
   "display_name": "Python 3 (ipykernel)",
   "language": "python",
   "name": "python3"
  },
  "language_info": {
   "codemirror_mode": {
    "name": "ipython",
    "version": 3
   },
   "file_extension": ".py",
   "mimetype": "text/x-python",
   "name": "python",
   "nbconvert_exporter": "python",
   "pygments_lexer": "ipython3",
   "version": "3.8.10"
  }
 },
 "nbformat": 4,
 "nbformat_minor": 5
}
